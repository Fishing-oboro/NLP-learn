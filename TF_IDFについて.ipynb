{
  "nbformat": 4,
  "nbformat_minor": 0,
  "metadata": {
    "colab": {
      "name": "TF-IDFについて.ipynb",
      "provenance": [],
      "authorship_tag": "ABX9TyPJyTBTqbhPB2ZWZEOQRfP+",
      "include_colab_link": true
    },
    "kernelspec": {
      "name": "python3",
      "display_name": "Python 3"
    }
  },
  "cells": [
    {
      "cell_type": "markdown",
      "metadata": {
        "id": "view-in-github",
        "colab_type": "text"
      },
      "source": [
        "<a href=\"https://colab.research.google.com/github/Fishing-oboro/NLP-learn/blob/main/TF_IDF%E3%81%AB%E3%81%A4%E3%81%84%E3%81%A6.ipynb\" target=\"_parent\"><img src=\"https://colab.research.google.com/assets/colab-badge.svg\" alt=\"Open In Colab\"/></a>"
      ]
    },
    {
      "cell_type": "markdown",
      "metadata": {
        "id": "IjCFIqtffo88"
      },
      "source": [
        "# tf-idf\r\n",
        "***\r\n",
        "tf(term frequency)-idf(inverse document frequency)の略。単語頻度×文章頻度の逆数で表される。"
      ]
    },
    {
      "cell_type": "markdown",
      "metadata": {
        "id": "e158Q7KQC62l"
      },
      "source": [
        "$$y = \frac{n}{n}$$"
      ]
    }
  ]
}
